{
 "cells": [
  {
   "cell_type": "code",
   "execution_count": 5,
   "metadata": {},
   "outputs": [],
   "source": [
    "import chess.pgn\n",
    "import pandas as pd\n",
    "import chess\n",
    "import chess.svg\n",
    "import glob\n",
    "import pickle as pickle\n",
    "import numpy as np\n",
    "import cairosvg\n",
    "\n",
    "l = 0\n",
    "\n",
    "\n",
    "\n",
    "X = []\n",
    "Y = []\n",
    "n_games = 0\n"
   ]
  },
  {
   "cell_type": "code",
   "execution_count": 6,
   "metadata": {},
   "outputs": [],
   "source": [
    "def moves_array(moves):\n",
    "    moves = moves[6:]\n",
    "    end_str = moves.find('...')\n",
    "    moves = moves[0:end_str]\n",
    "    moves_array = moves.split(' ')\n",
    "    return moves_array\n",
    "\n",
    "def play_game(moves):\n",
    "    board = chess.Board()\n",
    "    board_data = []\n",
    "    n_moves = len(moves)\n",
    "    for i in range(n_moves):\n",
    "        board.push_san(moves[i])\n",
    "        x = board_to_array(board)\n",
    "        board_data.append(board_to_array(x))\n",
    "        print(i)\n",
    "    return board_data\n",
    "\n",
    "pieces = ['p','r','n','b','k','q','P','R','N','B','K','Q','.']\n",
    "\n",
    "\n",
    "def board_to_array(board):\n",
    "    board_array = [0]*((64*13)+1)\n",
    "   \n",
    "    for i in range(64):\n",
    "        piece = str(board.piece_at(i))\n",
    "        if piece == 'None': piece = '.'\n",
    "        piece_n = pieces.index(piece)    \n",
    "        board_array[i*13 + piece_n] = 1\n",
    "        \n",
    "    board_array[64] = int(board.turn)\n",
    "    return board_array\n"
   ]
  },
  {
   "cell_type": "code",
   "execution_count": null,
   "metadata": {},
   "outputs": [
    {
     "name": "stdout",
     "output_type": "stream",
     "text": [
      "0\n",
      "data/pgns/WorldChamp1958.pgn\n"
     ]
    }
   ],
   "source": [
    "max_games = 1000\n",
    "for filepath in glob.iglob('data/pgns/*.pgn'):\n",
    "    \n",
    "    gm = 1\n",
    "\n",
    "    pgn = open(filepath) \n",
    "    print(n_games)\n",
    "    print(filepath)\n",
    "    while n_games < max_games :\n",
    "        for i in pgn:\n",
    "            game = chess.pgn.read_game(pgn)\n",
    "            moves = 0\n",
    "            if game != None:\n",
    "                board = game.board()\n",
    "                for move in game.mainline_moves():\n",
    "                    board.push(move)\n",
    "                    moves += 1\n",
    "                board    \n",
    "                svg = chess.svg.board(board)\n",
    "                name = str(game.headers['White']) + ' VS ' + str(game.headers['Black']) + str(gm)\n",
    "\n",
    "                result_str = game.headers[\"Result\"]\n",
    "                if result_str == '1/2-1/2': result = \"Draw\"\n",
    "                if result_str == '0-1': result = \"Black\"\n",
    "                if result_str == '1-0': result = \"White\"\n",
    "\n",
    "                if moves > 10:\n",
    "                    cairosvg.svg2png(bytestring=svg, write_to='data/img/' + result + '/' + name + n_games + '.png')\n",
    "                \n",
    "                #print(result_str + ' ---- ' + str(result))\n",
    "                #print('GAME NUMBER ' + str(gm) + ' ' + str(game.headers['White']) + ' VS ' + str(game.headers['Black']))\n",
    "                gm +=1 \n",
    "                n_games +=1\n"
   ]
  },
  {
   "cell_type": "code",
   "execution_count": null,
   "metadata": {},
   "outputs": [],
   "source": []
  }
 ],
 "metadata": {
  "kernelspec": {
   "display_name": "Python 3",
   "language": "python",
   "name": "python3"
  },
  "language_info": {
   "codemirror_mode": {
    "name": "ipython",
    "version": 3
   },
   "file_extension": ".py",
   "mimetype": "text/x-python",
   "name": "python",
   "nbconvert_exporter": "python",
   "pygments_lexer": "ipython3",
   "version": "3.6.6"
  }
 },
 "nbformat": 4,
 "nbformat_minor": 2
}
