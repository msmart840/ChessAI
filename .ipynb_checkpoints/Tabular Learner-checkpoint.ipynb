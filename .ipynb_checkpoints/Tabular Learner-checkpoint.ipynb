{
 "cells": [
  {
   "cell_type": "code",
   "execution_count": 2,
   "metadata": {},
   "outputs": [],
   "source": [
    "%reload_ext autoreload\n",
    "%autoreload 2\n",
    "%matplotlib inline"
   ]
  },
  {
   "cell_type": "code",
   "execution_count": 3,
   "metadata": {},
   "outputs": [],
   "source": [
    "from fastai.tabular import *\n",
    "from fastai.metrics import error_rate\n",
    "import pandas as pd\n",
    "import numpy as np\n",
    "import glob\n",
    "\n"
   ]
  },
  {
   "cell_type": "code",
   "execution_count": 5,
   "metadata": {},
   "outputs": [],
   "source": [
    "data = []\n",
    "for filepath in glob.iglob('data/*.csv'):\n",
    "    df = pd.read_csv(filepath)\n",
    "    data.append(df)\n",
    "    \n",
    "    \n",
    "df_full = pd.concat(data)"
   ]
  },
  {
   "cell_type": "code",
   "execution_count": 7,
   "metadata": {},
   "outputs": [
    {
     "data": {
      "text/html": [
       "<div>\n",
       "<style scoped>\n",
       "    .dataframe tbody tr th:only-of-type {\n",
       "        vertical-align: middle;\n",
       "    }\n",
       "\n",
       "    .dataframe tbody tr th {\n",
       "        vertical-align: top;\n",
       "    }\n",
       "\n",
       "    .dataframe thead th {\n",
       "        text-align: right;\n",
       "    }\n",
       "</style>\n",
       "<table border=\"1\" class=\"dataframe\">\n",
       "  <thead>\n",
       "    <tr style=\"text-align: right;\">\n",
       "      <th></th>\n",
       "      <th>Unnamed: 0</th>\n",
       "      <th>result</th>\n",
       "      <th>move</th>\n",
       "      <th>moveEnd</th>\n",
       "      <th>X0</th>\n",
       "      <th>X1</th>\n",
       "      <th>X2</th>\n",
       "      <th>X3</th>\n",
       "      <th>X4</th>\n",
       "      <th>X5</th>\n",
       "      <th>...</th>\n",
       "      <th>X55</th>\n",
       "      <th>X56</th>\n",
       "      <th>X57</th>\n",
       "      <th>X58</th>\n",
       "      <th>X59</th>\n",
       "      <th>X60</th>\n",
       "      <th>X61</th>\n",
       "      <th>X62</th>\n",
       "      <th>X63</th>\n",
       "      <th>X64</th>\n",
       "    </tr>\n",
       "  </thead>\n",
       "  <tbody>\n",
       "    <tr>\n",
       "      <th>0</th>\n",
       "      <td>0</td>\n",
       "      <td>Draw</td>\n",
       "      <td>0</td>\n",
       "      <td>87</td>\n",
       "      <td>R</td>\n",
       "      <td>N</td>\n",
       "      <td>B</td>\n",
       "      <td>Q</td>\n",
       "      <td>K</td>\n",
       "      <td>B</td>\n",
       "      <td>...</td>\n",
       "      <td>p</td>\n",
       "      <td>r</td>\n",
       "      <td>n</td>\n",
       "      <td>b</td>\n",
       "      <td>q</td>\n",
       "      <td>k</td>\n",
       "      <td>b</td>\n",
       "      <td>n</td>\n",
       "      <td>r</td>\n",
       "      <td>0</td>\n",
       "    </tr>\n",
       "    <tr>\n",
       "      <th>1</th>\n",
       "      <td>1</td>\n",
       "      <td>Draw</td>\n",
       "      <td>1</td>\n",
       "      <td>86</td>\n",
       "      <td>R</td>\n",
       "      <td>N</td>\n",
       "      <td>B</td>\n",
       "      <td>Q</td>\n",
       "      <td>K</td>\n",
       "      <td>B</td>\n",
       "      <td>...</td>\n",
       "      <td>p</td>\n",
       "      <td>r</td>\n",
       "      <td>n</td>\n",
       "      <td>b</td>\n",
       "      <td>q</td>\n",
       "      <td>k</td>\n",
       "      <td>b</td>\n",
       "      <td>n</td>\n",
       "      <td>r</td>\n",
       "      <td>1</td>\n",
       "    </tr>\n",
       "    <tr>\n",
       "      <th>2</th>\n",
       "      <td>2</td>\n",
       "      <td>Draw</td>\n",
       "      <td>2</td>\n",
       "      <td>85</td>\n",
       "      <td>R</td>\n",
       "      <td>N</td>\n",
       "      <td>B</td>\n",
       "      <td>Q</td>\n",
       "      <td>K</td>\n",
       "      <td>B</td>\n",
       "      <td>...</td>\n",
       "      <td>p</td>\n",
       "      <td>r</td>\n",
       "      <td>n</td>\n",
       "      <td>b</td>\n",
       "      <td>q</td>\n",
       "      <td>k</td>\n",
       "      <td>b</td>\n",
       "      <td>n</td>\n",
       "      <td>r</td>\n",
       "      <td>0</td>\n",
       "    </tr>\n",
       "    <tr>\n",
       "      <th>3</th>\n",
       "      <td>3</td>\n",
       "      <td>Draw</td>\n",
       "      <td>3</td>\n",
       "      <td>84</td>\n",
       "      <td>R</td>\n",
       "      <td>N</td>\n",
       "      <td>B</td>\n",
       "      <td>Q</td>\n",
       "      <td>K</td>\n",
       "      <td>B</td>\n",
       "      <td>...</td>\n",
       "      <td>p</td>\n",
       "      <td>r</td>\n",
       "      <td>n</td>\n",
       "      <td>b</td>\n",
       "      <td>q</td>\n",
       "      <td>k</td>\n",
       "      <td>b</td>\n",
       "      <td>n</td>\n",
       "      <td>r</td>\n",
       "      <td>1</td>\n",
       "    </tr>\n",
       "    <tr>\n",
       "      <th>4</th>\n",
       "      <td>4</td>\n",
       "      <td>Draw</td>\n",
       "      <td>4</td>\n",
       "      <td>83</td>\n",
       "      <td>R</td>\n",
       "      <td>N</td>\n",
       "      <td>B</td>\n",
       "      <td>Q</td>\n",
       "      <td>K</td>\n",
       "      <td>B</td>\n",
       "      <td>...</td>\n",
       "      <td>p</td>\n",
       "      <td>r</td>\n",
       "      <td>n</td>\n",
       "      <td>b</td>\n",
       "      <td>q</td>\n",
       "      <td>k</td>\n",
       "      <td>b</td>\n",
       "      <td>n</td>\n",
       "      <td>r</td>\n",
       "      <td>0</td>\n",
       "    </tr>\n",
       "  </tbody>\n",
       "</table>\n",
       "<p>5 rows × 69 columns</p>\n",
       "</div>"
      ],
      "text/plain": [
       "   Unnamed: 0 result  move  moveEnd X0 X1 X2 X3 X4 X5  ... X55 X56 X57 X58  \\\n",
       "0           0   Draw     0       87  R  N  B  Q  K  B  ...   p   r   n   b   \n",
       "1           1   Draw     1       86  R  N  B  Q  K  B  ...   p   r   n   b   \n",
       "2           2   Draw     2       85  R  N  B  Q  K  B  ...   p   r   n   b   \n",
       "3           3   Draw     3       84  R  N  B  Q  K  B  ...   p   r   n   b   \n",
       "4           4   Draw     4       83  R  N  B  Q  K  B  ...   p   r   n   b   \n",
       "\n",
       "  X59 X60 X61 X62 X63 X64  \n",
       "0   q   k   b   n   r   0  \n",
       "1   q   k   b   n   r   1  \n",
       "2   q   k   b   n   r   0  \n",
       "3   q   k   b   n   r   1  \n",
       "4   q   k   b   n   r   0  \n",
       "\n",
       "[5 rows x 69 columns]"
      ]
     },
     "execution_count": 7,
     "metadata": {},
     "output_type": "execute_result"
    }
   ],
   "source": [
    "df_full.head()"
   ]
  },
  {
   "cell_type": "code",
   "execution_count": null,
   "metadata": {},
   "outputs": [],
   "source": [
    "# prepare data for NN\n",
    "\n",
    "procs = [FillMissing, Categorify]\n",
    "cat_names = []\n",
    "for i in range(64): \n",
    "    cat_names.append(\"X\" + str(i))\n",
    "cont_names=[]\n",
    "pred_names = [\"result\"]\n"
   ]
  },
  {
   "cell_type": "code",
   "execution_count": null,
   "metadata": {},
   "outputs": [],
   "source": [
    "data = (TabularList.from_df(df_adj, path=path, cat_names=cat_names, cont_names=cont_names, procs=procs)\n",
    "                           .split_from_df(col='is_valid')\n",
    "                           .label_from_df(cols=pred_names, label_cls=FloatList)\n",
    "                           .databunch())"
   ]
  },
  {
   "cell_type": "code",
   "execution_count": null,
   "metadata": {
    "scrolled": true
   },
   "outputs": [],
   "source": [
    "data.show_batch(rows =5)"
   ]
  },
  {
   "cell_type": "code",
   "execution_count": null,
   "metadata": {},
   "outputs": [],
   "source": [
    "#learn= tabular_learner(data_for_model,  layers=[500,100,50], metrics=rmse)\n",
    "learn = tabular_learner(data, layers=[1000,500], ps=[0.4], emb_drop=0.4, metrics=rmse)\n",
    "\n"
   ]
  },
  {
   "cell_type": "code",
   "execution_count": null,
   "metadata": {},
   "outputs": [],
   "source": [
    "learn.lr_find()\n",
    "learn.recorder.plot()\n"
   ]
  },
  {
   "cell_type": "code",
   "execution_count": null,
   "metadata": {
    "scrolled": true
   },
   "outputs": [],
   "source": [
    "learn.fit_one_cycle(4, max_lr=1e-5)"
   ]
  },
  {
   "cell_type": "code",
   "execution_count": null,
   "metadata": {},
   "outputs": [],
   "source": [
    "learn.save('pred_model - stage 1')"
   ]
  },
  {
   "cell_type": "code",
   "execution_count": null,
   "metadata": {},
   "outputs": [],
   "source": [
    "#learn.predict(df_adj.iloc[2])"
   ]
  },
  {
   "cell_type": "code",
   "execution_count": null,
   "metadata": {},
   "outputs": [],
   "source": [
    "learn.export()"
   ]
  },
  {
   "cell_type": "code",
   "execution_count": null,
   "metadata": {},
   "outputs": [],
   "source": [
    "# Blackout Prediction "
   ]
  },
  {
   "cell_type": "code",
   "execution_count": null,
   "metadata": {},
   "outputs": [],
   "source": [
    "procs = [FillMissing, Categorify]\n",
    "cat_names=['Village', 'alias', 'month', 'hour', 'year']\n",
    "cont_names=[]\n",
    "pred_names = []\n",
    "n_lags = 24\n",
    "for j in range(n_lags):\n",
    "    cont_names.append('load ' + str(j+1))\n",
    "    cont_names.append('gen ' + str(j+1))\n",
    "    cont_names.append('min_voltage ' + str(j+1))\n",
    "    cont_names.append('blackout ' + str(j+1))\n",
    "    \n",
    "    \n",
    "fwd_pred = 24\n",
    "for j in range(fwd_pred):\n",
    "    pred_names.append('blackout fwd '+ str(j+1))\n",
    "    \n",
    "df_adj = df.dropna(subset = pred_names)"
   ]
  },
  {
   "cell_type": "code",
   "execution_count": null,
   "metadata": {},
   "outputs": [],
   "source": [
    "data = (TabularList.from_df(df_adj, path=path, cat_names=cat_names, cont_names=cont_names, procs=procs)\n",
    "                           .split_from_df(col='is_valid')\n",
    "                           .label_from_df(cols=pred_names, label_cls=FloatList)\n",
    "                           .databunch())"
   ]
  },
  {
   "cell_type": "code",
   "execution_count": null,
   "metadata": {},
   "outputs": [],
   "source": [
    "learn = tabular_learner(data, layers=[1000,500], ps=[0.4], emb_drop=0.4, metrics=accuracy)\n"
   ]
  },
  {
   "cell_type": "code",
   "execution_count": null,
   "metadata": {},
   "outputs": [],
   "source": [
    "learn.lr_find()\n",
    "learn.recorder.plot()\n"
   ]
  },
  {
   "cell_type": "code",
   "execution_count": null,
   "metadata": {},
   "outputs": [],
   "source": [
    "learn.fit_one_cycle(4, max_lr=1e-5)"
   ]
  },
  {
   "cell_type": "code",
   "execution_count": null,
   "metadata": {},
   "outputs": [],
   "source": []
  }
 ],
 "metadata": {
  "kernelspec": {
   "display_name": "Python 3",
   "language": "python",
   "name": "python3"
  },
  "language_info": {
   "codemirror_mode": {
    "name": "ipython",
    "version": 3
   },
   "file_extension": ".py",
   "mimetype": "text/x-python",
   "name": "python",
   "nbconvert_exporter": "python",
   "pygments_lexer": "ipython3",
   "version": "3.6.6"
  }
 },
 "nbformat": 4,
 "nbformat_minor": 2
}
